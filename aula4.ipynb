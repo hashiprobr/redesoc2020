{
 "cells": [
  {
   "cell_type": "markdown",
   "metadata": {},
   "source": [
    "# Aula 4\n",
    "\n",
    "Importando os pacotes necessários:"
   ]
  },
  {
   "cell_type": "code",
   "execution_count": null,
   "metadata": {},
   "outputs": [],
   "source": [
    "import pandas as pd\n",
    "import seaborn as sns\n",
    "import networkx as nx\n",
    "\n",
    "import freeman as fm"
   ]
  },
  {
   "cell_type": "markdown",
   "metadata": {},
   "source": [
    "Operacionalizando as fórmulas do [material](https://ensino.hashi.pro.br/redesoc/material/lacunas.html):"
   ]
  },
  {
   "cell_type": "code",
   "execution_count": null,
   "metadata": {},
   "outputs": [],
   "source": [
    "from math import log\n",
    "\n",
    "def proportion(g, n, m):\n",
    "    return 1 / g.degree(n)\n",
    "\n",
    "def local_effsize(g, n, m):\n",
    "    s = 1\n",
    "    for k in g.neighbors(n):\n",
    "        if g.has_edge(k, m):\n",
    "            s -= proportion(g, n, k)\n",
    "    return s\n",
    "\n",
    "def effsize(g, n):\n",
    "    s = 0\n",
    "    for m in g.neighbors(n):\n",
    "        s += local_effsize(g, n, m)\n",
    "    return s\n",
    "\n",
    "def local_constraint(g, n, m):\n",
    "    s = proportion(g, n, m)\n",
    "    for k in g.neighbors(n):\n",
    "        if g.has_edge(k, m):\n",
    "            s += proportion(g, n, k) * proportion(g, k, m)\n",
    "    return s**2\n",
    "\n",
    "def constraint(g, n):\n",
    "    if g.degree(n) == 0:\n",
    "        return 2\n",
    "    s = 0\n",
    "    for m in g.neighbors(n):\n",
    "        s += local_constraint(g, n, m)\n",
    "    return s\n",
    "\n",
    "def hierarchy(g, n):\n",
    "    c = constraint(g, n)\n",
    "    N = g.number_of_nodes()\n",
    "    s = 0\n",
    "    for m in g.neighbors(n):\n",
    "        f = local_constraint(g, n, m) / (c / N)\n",
    "        s += f * log(f)\n",
    "    return s / (N * log(N))"
   ]
  },
  {
   "cell_type": "markdown",
   "metadata": {},
   "source": [
    "Carregando a rede de contribuiçao intelectual:"
   ]
  },
  {
   "cell_type": "code",
   "execution_count": null,
   "metadata": {},
   "outputs": [],
   "source": [
    "g = fm.load('intellect.gml')"
   ]
  },
  {
   "cell_type": "markdown",
   "metadata": {},
   "source": [
    "Calculando métricas conhecidas:"
   ]
  },
  {
   "cell_type": "code",
   "execution_count": null,
   "metadata": {},
   "outputs": [],
   "source": [
    "print('calculando centralidade degree...')\n",
    "dc = nx.degree_centrality(g)\n",
    "\n",
    "print('calculando centralidade betweenness...')\n",
    "bc = nx.betweenness_centrality(g)\n",
    "\n",
    "print('calculando centralidade closeness...')\n",
    "cc = nx.closeness_centrality(g)\n",
    "\n",
    "print('calculando centralidade eigenvector...')\n",
    "ec = nx.eigenvector_centrality(g)"
   ]
  },
  {
   "cell_type": "markdown",
   "metadata": {},
   "source": [
    "Carregando métricas novas:"
   ]
  },
  {
   "cell_type": "code",
   "execution_count": null,
   "metadata": {},
   "outputs": [],
   "source": [
    "print('calculando efficient size...')\n",
    "eff = {}\n",
    "for n in g.nodes:\n",
    "    eff[n] = effsize(g, n)\n",
    "\n",
    "print('calculando constraint...')\n",
    "con = {}\n",
    "for n in g.nodes:\n",
    "    con[n] = constraint(g, n)\n",
    "\n",
    "print('calculando hierarchy...')\n",
    "hie = {}\n",
    "for n in g.nodes:\n",
    "    hie[n] = hierarchy(g, n)"
   ]
  },
  {
   "cell_type": "markdown",
   "metadata": {},
   "source": [
    "Armazenando em dataframe:"
   ]
  },
  {
   "cell_type": "code",
   "execution_count": null,
   "metadata": {},
   "outputs": [],
   "source": [
    "data = pd.DataFrame({\n",
    "    'nodes': [n for n in g.nodes],\n",
    "    'affiliation': [g.nodes[n]['affiliation'] for n in g.nodes],\n",
    "    'gender': ['male' if g.nodes[n]['gender'] == 1 else 'female' for n in g.nodes],\n",
    "    'degree centrality': [dc[n] for n in g.nodes],\n",
    "    'betweenness centrality': [bc[n] for n in g.nodes],\n",
    "    'closeness centrality': [cc[n] for n in g.nodes],\n",
    "    'eigenvector centrality': [ec[n] for n in g.nodes],\n",
    "    'efficient size': [eff[n] for n in g.nodes],\n",
    "    'constraint': [con[n] for n in g.nodes],\n",
    "    'hierarchy': [hie[n] for n in g.nodes],\n",
    "})\n",
    "\n",
    "fm.resize_all_plots(800, 1000)"
   ]
  },
  {
   "cell_type": "markdown",
   "metadata": {},
   "source": [
    "Plotando métricas conhecidas:"
   ]
  },
  {
   "cell_type": "code",
   "execution_count": null,
   "metadata": {},
   "outputs": [],
   "source": [
    "sns.boxplot(data=data, x='degree centrality', y='affiliation');"
   ]
  },
  {
   "cell_type": "code",
   "execution_count": null,
   "metadata": {},
   "outputs": [],
   "source": [
    "sns.boxplot(data=data, x='betweenness centrality', y='affiliation');"
   ]
  },
  {
   "cell_type": "code",
   "execution_count": null,
   "metadata": {},
   "outputs": [],
   "source": [
    "sns.boxplot(data=data, x='closeness centrality', y='affiliation');"
   ]
  },
  {
   "cell_type": "code",
   "execution_count": null,
   "metadata": {},
   "outputs": [],
   "source": [
    "sns.boxplot(data=data, x='eigenvector centrality', y='affiliation');"
   ]
  },
  {
   "cell_type": "markdown",
   "metadata": {},
   "source": [
    "Plotando métricas novas:"
   ]
  },
  {
   "cell_type": "code",
   "execution_count": null,
   "metadata": {},
   "outputs": [],
   "source": [
    "sns.boxplot(data=data, x='efficient size', y='affiliation');"
   ]
  },
  {
   "cell_type": "code",
   "execution_count": null,
   "metadata": {},
   "outputs": [],
   "source": [
    "sns.boxplot(data=data, x='constraint', y='affiliation');"
   ]
  },
  {
   "cell_type": "code",
   "execution_count": null,
   "metadata": {},
   "outputs": [],
   "source": [
    "sns.boxplot(data=data, x='hierarchy', y='affiliation');"
   ]
  },
  {
   "cell_type": "markdown",
   "metadata": {},
   "source": [
    "EOF"
   ]
  }
 ],
 "metadata": {
  "kernelspec": {
   "display_name": "Python 3",
   "language": "python",
   "name": "python3"
  },
  "language_info": {
   "codemirror_mode": {
    "name": "ipython",
    "version": 3
   },
   "file_extension": ".py",
   "mimetype": "text/x-python",
   "name": "python",
   "nbconvert_exporter": "python",
   "pygments_lexer": "ipython3",
   "version": "3.8.5"
  }
 },
 "nbformat": 4,
 "nbformat_minor": 4
}
