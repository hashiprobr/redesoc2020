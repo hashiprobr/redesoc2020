{
 "cells": [
  {
   "cell_type": "markdown",
   "metadata": {},
   "source": [
    "# Aula 3\n",
    "\n",
    "Importando os pacotes necessários:"
   ]
  },
  {
   "cell_type": "code",
   "execution_count": null,
   "metadata": {},
   "outputs": [],
   "source": [
    "import seaborn as sns\n",
    "import networkx as nx\n",
    "\n",
    "import freeman as fm"
   ]
  },
  {
   "cell_type": "markdown",
   "metadata": {},
   "source": [
    "Função para carregar e dicotomizar uma rede de países:"
   ]
  },
  {
   "cell_type": "code",
   "execution_count": null,
   "metadata": {},
   "outputs": [],
   "source": [
    "# Valores possíveis do parâmetro topic:\n",
    "# ------------------------------------\n",
    "# 'all': todos os tópicos\n",
    "# 'co': colonialismo\n",
    "# 'di': controle de armas e desarmamento\n",
    "# 'ec': desenvolvimento econômico\n",
    "# 'hr': Direitos Humanos\n",
    "# 'me': Oriente Médio\n",
    "# 'nu': armas nucleares e material nuclear\n",
    "\n",
    "\n",
    "# Valores possíveis do parâmetro period:\n",
    "# -------------------------------------\n",
    "# '1946' a '2015': votações de um ano específico\n",
    "# '1940s' a '2010s': votações de uma década específica\n",
    "# 'all': todas as votações de 1946 a 2015\n",
    "\n",
    "\n",
    "def load(topic, period):\n",
    "    g = fm.load('un/{}/{}.gml'.format(topic, period))\n",
    "\n",
    "    # Remover todas as arestas com peso menor ou igual a 0.5.\n",
    "    # Precisamos de dois loops, pois não é uma boa ideia\n",
    "    # tirar algo de um conjunto enquanto iteramos nele.\n",
    "    removed = []\n",
    "    for n, m in g.edges:\n",
    "        if g.edges[n, m]['weight'] <= 0.5:\n",
    "            removed.append((n, m))\n",
    "    for n, m in removed:\n",
    "        g.remove_edge(n, m)\n",
    "\n",
    "    # Remover todos os nós que ficaram isolados depois da\n",
    "    # remoção das arestas, para melhorar a visualização.\n",
    "    removed = []\n",
    "    for n in g.nodes:\n",
    "        if not g.degree(n):\n",
    "            removed.append(n)\n",
    "    for n in removed:\n",
    "        g.remove_node(n)\n",
    "\n",
    "    return g"
   ]
  },
  {
   "cell_type": "markdown",
   "metadata": {},
   "source": [
    "Função para visualizar uma rede dicotomizada:"
   ]
  },
  {
   "cell_type": "code",
   "execution_count": null,
   "metadata": {},
   "outputs": [],
   "source": [
    "def draw(g):\n",
    "    # Pintar o Brasil de verde.\n",
    "    g.nodes['BR']['color'] = (0, 255, 0)\n",
    "\n",
    "    # Deixar os nós menores e fazer os nomes deles\n",
    "    # aparecer apenas quando o mouse passa por cima.\n",
    "    g.set_all_nodes(size=10, labpos='hover')\n",
    "\n",
    "    # Deixar as arestas semi-transparentes para\n",
    "    # a visualização ficar um pouco mais leve.\n",
    "    g.set_all_edges(color=(0, 0, 0, 0.25))\n",
    "\n",
    "    # Usar um algoritmo especial para posicionar\n",
    "    # os nós de acordo com grupos.\n",
    "    g.move('kamada_kawai')\n",
    "\n",
    "    g.draw()"
   ]
  },
  {
   "cell_type": "markdown",
   "metadata": {},
   "source": [
    "Função para calcular as centralidades do Brasil:\n",
    "\n",
    "*(parece ineficiente calcular tudo só para pegar a do Brasil, mas para os algoritmos mais eficientes não faz muita diferença... o cálculo envolve a rede inteira de qualquer forma)*"
   ]
  },
  {
   "cell_type": "code",
   "execution_count": null,
   "metadata": {},
   "outputs": [],
   "source": [
    "def brazil_centralities(g):\n",
    "    dc = nx.degree_centrality(g)\n",
    "    bc = nx.betweenness_centrality(g)\n",
    "    cc = nx.closeness_centrality(g)\n",
    "    ec = nx.eigenvector_centrality(g, max_iter=1000)\n",
    "    return dc['BR'], bc['BR'], cc['BR'], ec['BR']"
   ]
  },
  {
   "cell_type": "markdown",
   "metadata": {},
   "source": [
    "Visualizando a rede de cada década:\n",
    "\n",
    "*(as visualizações são meio pesadonas...o notebook vai dar umas travadas mas assim que terminar de renderizar vai voltar ao normal... espero)*"
   ]
  },
  {
   "cell_type": "code",
   "execution_count": null,
   "metadata": {},
   "outputs": [],
   "source": [
    "for year in range(1940, 2020, 10):\n",
    "    period = '{}s'.format(year)\n",
    "    print(period)\n",
    "    g = load('all', period)\n",
    "    draw(g)"
   ]
  },
  {
   "cell_type": "markdown",
   "metadata": {},
   "source": [
    "Calculando as centralidades do Brasil ao longo das décadas:"
   ]
  },
  {
   "cell_type": "code",
   "execution_count": null,
   "metadata": {},
   "outputs": [],
   "source": [
    "years = list(range(1940, 2020, 10))\n",
    "\n",
    "dc = []\n",
    "bc = []\n",
    "cc = []\n",
    "ec = []\n",
    "\n",
    "for year in years:\n",
    "    period = '{}s'.format(year)\n",
    "    g = load('all', period)\n",
    "    d, b, c, e = brazil_centralities(g)\n",
    "    dc.append(d)\n",
    "    bc.append(b)\n",
    "    cc.append(c)\n",
    "    ec.append(e)\n",
    "    print(period)"
   ]
  },
  {
   "cell_type": "markdown",
   "metadata": {},
   "source": [
    "Plotando a centralidade degree do Brasil ao longo das décadas:"
   ]
  },
  {
   "cell_type": "code",
   "execution_count": null,
   "metadata": {},
   "outputs": [],
   "source": [
    "sns.lineplot(years, dc);"
   ]
  },
  {
   "cell_type": "markdown",
   "metadata": {},
   "source": [
    "Plotando a centralidade betweenness do Brasil ao longo das décadas:"
   ]
  },
  {
   "cell_type": "code",
   "execution_count": null,
   "metadata": {},
   "outputs": [],
   "source": [
    "sns.lineplot(years, bc);"
   ]
  },
  {
   "cell_type": "markdown",
   "metadata": {},
   "source": [
    "Plotando a centralidade closeness do Brasil ao longo das décadas:"
   ]
  },
  {
   "cell_type": "code",
   "execution_count": null,
   "metadata": {},
   "outputs": [],
   "source": [
    "sns.lineplot(years, cc);"
   ]
  },
  {
   "cell_type": "markdown",
   "metadata": {},
   "source": [
    "Plotando a centralidade eigenvector do Brasil ao longo das décadas:"
   ]
  },
  {
   "cell_type": "code",
   "execution_count": null,
   "metadata": {},
   "outputs": [],
   "source": [
    "sns.lineplot(years, ec);"
   ]
  },
  {
   "cell_type": "markdown",
   "metadata": {},
   "source": [
    "EOF"
   ]
  }
 ],
 "metadata": {
  "kernelspec": {
   "display_name": "Python 3",
   "language": "python",
   "name": "python3"
  },
  "language_info": {
   "codemirror_mode": {
    "name": "ipython",
    "version": 3
   },
   "file_extension": ".py",
   "mimetype": "text/x-python",
   "name": "python",
   "nbconvert_exporter": "python",
   "pygments_lexer": "ipython3",
   "version": "3.8.5"
  }
 },
 "nbformat": 4,
 "nbformat_minor": 4
}
