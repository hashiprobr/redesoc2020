{
 "cells": [
  {
   "cell_type": "markdown",
   "metadata": {},
   "source": [
    "# Aula 2\n",
    "\n",
    "Importando os pacotes necessários:"
   ]
  },
  {
   "cell_type": "code",
   "execution_count": null,
   "metadata": {},
   "outputs": [],
   "source": [
    "from statistics import mean\n",
    "\n",
    "import seaborn as sns\n",
    "import networkx as nx\n",
    "\n",
    "import freeman as fm"
   ]
  },
  {
   "cell_type": "markdown",
   "metadata": {},
   "source": [
    "Calculando as centralidades:"
   ]
  },
  {
   "cell_type": "code",
   "execution_count": null,
   "metadata": {},
   "outputs": [],
   "source": [
    "years = list(range(1997, 2016))\n",
    "\n",
    "nm = []\n",
    "nf = []\n",
    "\n",
    "dm = []\n",
    "df = []\n",
    "\n",
    "bm = []\n",
    "bf = []\n",
    "\n",
    "cm = []\n",
    "cf = []\n",
    "\n",
    "em = []\n",
    "ef = []\n",
    "\n",
    "for year in years:\n",
    "    g = fm.load('interlock/{}.gml'.format(year))\n",
    "\n",
    "    women = [n for n in g.nodes if not g.nodes[n]['male']]\n",
    "    nf.append(len(women) / g.number_of_nodes())\n",
    "\n",
    "    dc = nx.degree_centrality(g)\n",
    "    dm.append(mean(dc[n] for n in g.nodes if g.nodes[n]['male']))\n",
    "    df.append(mean(dc[n] for n in g.nodes if not g.nodes[n]['male']))\n",
    "\n",
    "    bc = nx.betweenness_centrality(g)\n",
    "    bm.append(mean(bc[n] for n in g.nodes if g.nodes[n]['male']))\n",
    "    bf.append(mean(bc[n] for n in g.nodes if not g.nodes[n]['male']))\n",
    "\n",
    "    cc = nx.closeness_centrality(g)\n",
    "    cm.append(mean(cc[n] for n in g.nodes if g.nodes[n]['male']))\n",
    "    cf.append(mean(cc[n] for n in g.nodes if not g.nodes[n]['male']))\n",
    "\n",
    "    ec = nx.eigenvector_centrality(g, max_iter=10000)\n",
    "    em.append(mean(ec[n] for n in g.nodes if g.nodes[n]['male']))\n",
    "    ef.append(mean(ec[n] for n in g.nodes if not g.nodes[n]['male']))\n",
    "\n",
    "    print(year)"
   ]
  },
  {
   "cell_type": "markdown",
   "metadata": {},
   "source": [
    "Plotando a evolução das proporções:"
   ]
  },
  {
   "cell_type": "code",
   "execution_count": null,
   "metadata": {},
   "outputs": [],
   "source": [
    "sns.lineplot(x=years, y=nf);"
   ]
  },
  {
   "cell_type": "markdown",
   "metadata": {},
   "source": [
    "Plotando a evolução das centralidades degree:"
   ]
  },
  {
   "cell_type": "code",
   "execution_count": null,
   "metadata": {},
   "outputs": [],
   "source": [
    "sns.lineplot(x=years, y=df, label='mulheres');\n",
    "sns.lineplot(x=years, y=dm, label='homens');"
   ]
  },
  {
   "cell_type": "markdown",
   "metadata": {},
   "source": [
    "Plotando a evolução das centralidades betweenness:"
   ]
  },
  {
   "cell_type": "code",
   "execution_count": null,
   "metadata": {},
   "outputs": [],
   "source": [
    "sns.lineplot(x=years, y=bf, label='mulheres');\n",
    "sns.lineplot(x=years, y=bm, label='homens');"
   ]
  },
  {
   "cell_type": "markdown",
   "metadata": {},
   "source": [
    "Plotando a evolução das centralidades closeness:"
   ]
  },
  {
   "cell_type": "code",
   "execution_count": null,
   "metadata": {},
   "outputs": [],
   "source": [
    "sns.lineplot(x=years, y=cf, label='mulheres');\n",
    "sns.lineplot(x=years, y=cm, label='homens');"
   ]
  },
  {
   "cell_type": "markdown",
   "metadata": {},
   "source": [
    "Plotando a evolução das centralidades eigenvector"
   ]
  },
  {
   "cell_type": "code",
   "execution_count": null,
   "metadata": {},
   "outputs": [],
   "source": [
    "sns.lineplot(x=years, y=ef, label='mulheres');\n",
    "sns.lineplot(x=years, y=em, label='homens');"
   ]
  },
  {
   "cell_type": "markdown",
   "metadata": {},
   "source": [
    "EOF"
   ]
  }
 ],
 "metadata": {
  "kernelspec": {
   "display_name": "Python 3",
   "language": "python",
   "name": "python3"
  },
  "language_info": {
   "codemirror_mode": {
    "name": "ipython",
    "version": 3
   },
   "file_extension": ".py",
   "mimetype": "text/x-python",
   "name": "python",
   "nbconvert_exporter": "python",
   "pygments_lexer": "ipython3",
   "version": "3.8.5"
  }
 },
 "nbformat": 4,
 "nbformat_minor": 4
}
