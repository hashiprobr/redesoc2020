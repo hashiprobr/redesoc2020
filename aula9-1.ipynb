{
 "cells": [
  {
   "cell_type": "markdown",
   "metadata": {},
   "source": [
    "# Aula 9-1\n",
    "\n",
    "Importando os pacotes necessários:"
   ]
  },
  {
   "cell_type": "code",
   "execution_count": null,
   "metadata": {},
   "outputs": [],
   "source": [
    "import networkx as nx\n",
    "import freeman as fm\n",
    "\n",
    "from itertools import combinations"
   ]
  },
  {
   "cell_type": "markdown",
   "metadata": {},
   "source": [
    "Carregando a rede two-mode do GitHub:"
   ]
  },
  {
   "cell_type": "code",
   "execution_count": null,
   "metadata": {},
   "outputs": [],
   "source": [
    "g2 = fm.load('examples/github/github2.gml')"
   ]
  },
  {
   "cell_type": "markdown",
   "metadata": {},
   "source": [
    "Identificando os nós que representam usuários:\n",
    "\n",
    "*(são os nós que não tem uma barra)*"
   ]
  },
  {
   "cell_type": "code",
   "execution_count": null,
   "metadata": {},
   "outputs": [],
   "source": [
    "users = [n for n in g2.nodes if not '/' in n]"
   ]
  },
  {
   "cell_type": "markdown",
   "metadata": {},
   "source": [
    "Construindo a rede one-mode do zero:"
   ]
  },
  {
   "cell_type": "code",
   "execution_count": null,
   "metadata": {},
   "outputs": [],
   "source": [
    "g1 = fm.Graph(nx.Graph())"
   ]
  },
  {
   "cell_type": "markdown",
   "metadata": {},
   "source": [
    "Adicionando todos os nós de usuário à rede one-mode:"
   ]
  },
  {
   "cell_type": "code",
   "execution_count": null,
   "metadata": {},
   "outputs": [],
   "source": [
    "for n in users:\n",
    "    g1.add_node(n)"
   ]
  },
  {
   "cell_type": "markdown",
   "metadata": {},
   "source": [
    "Para cada par de usuários, adicionamos a aresta (n, m) à rede one-mode se a intersecção entre os vizinhos de n e os vizinhos de m não é vazia.\n",
    "\n",
    "Isso é $O(n^2)$, então não espere que seja rápido!"
   ]
  },
  {
   "cell_type": "code",
   "execution_count": null,
   "metadata": {},
   "outputs": [],
   "source": [
    "for n, m in combinations(g1.nodes, 2):\n",
    "\n",
    "    # Muito cuidado para não usar g1 aqui!\n",
    "    # Estamos analisando os vizinhos em g2.\n",
    "    repos_n = set(g2.neighbors(n))\n",
    "    repos_m = set(g2.neighbors(m))\n",
    "\n",
    "    # Em sets é fácil calcular intersecção.\n",
    "    weight = len(repos_n & repos_m)\n",
    "\n",
    "    # Adicionamos só se weight for positivo.\n",
    "    if weight > 0:\n",
    "        g1.add_edge(n, m)\n",
    "        g1.edges[n, m]['weight'] = weight"
   ]
  },
  {
   "cell_type": "markdown",
   "metadata": {},
   "source": [
    "Removendo todos os nós isolados:"
   ]
  },
  {
   "cell_type": "code",
   "execution_count": null,
   "metadata": {},
   "outputs": [],
   "source": [
    "isolated = [n for n in g1.nodes if g1.degree(n) == 0]\n",
    "\n",
    "for n in isolated:\n",
    "    g1.remove_node(n)"
   ]
  },
  {
   "cell_type": "markdown",
   "metadata": {},
   "source": [
    "Obtendo o conjunto de pesos. Se a rede estiver muito densa, uma opção é usar alguma estatística desse conjunto para filtrar as arestas. Por exemplo, só considerar as arestas cujos pesos estão acima de média.\n",
    "\n",
    "Nesse caso em particular, todos os pesos são iguais, então esse processo não é necessário."
   ]
  },
  {
   "cell_type": "code",
   "execution_count": null,
   "metadata": {},
   "outputs": [],
   "source": [
    "weights = [g1.edges[n, m]['weight'] for n, m in g1.edges]"
   ]
  },
  {
   "cell_type": "markdown",
   "metadata": {},
   "source": [
    "Salvando a rede:"
   ]
  },
  {
   "cell_type": "code",
   "execution_count": null,
   "metadata": {},
   "outputs": [],
   "source": [
    "nx.write_gml(g1, 'examples/github/github1.gml')"
   ]
  },
  {
   "cell_type": "markdown",
   "metadata": {},
   "source": [
    "EOL"
   ]
  }
 ],
 "metadata": {
  "kernelspec": {
   "display_name": "Python 3",
   "language": "python",
   "name": "python3"
  },
  "language_info": {
   "codemirror_mode": {
    "name": "ipython",
    "version": 3
   },
   "file_extension": ".py",
   "mimetype": "text/x-python",
   "name": "python",
   "nbconvert_exporter": "python",
   "pygments_lexer": "ipython3",
   "version": "3.8.5"
  }
 },
 "nbformat": 4,
 "nbformat_minor": 4
}
