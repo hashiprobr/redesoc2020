{
 "cells": [
  {
   "cell_type": "markdown",
   "metadata": {},
   "source": [
    "# Aula 6\n",
    "\n",
    "Importando os pacotes necessários:"
   ]
  },
  {
   "cell_type": "code",
   "execution_count": null,
   "metadata": {},
   "outputs": [],
   "source": [
    "import pandas as pd"
   ]
  },
  {
   "cell_type": "markdown",
   "metadata": {},
   "source": [
    "Carregando dados e evitando que datas sejam strings."
   ]
  },
  {
   "cell_type": "code",
   "execution_count": null,
   "metadata": {},
   "outputs": [],
   "source": [
    "data = pd.read_csv('escolas.csv', parse_dates=['DATADEINÍCIO'])"
   ]
  },
  {
   "cell_type": "markdown",
   "metadata": {},
   "source": [
    "O que podemos fazer com esses dados?\n",
    "\n",
    "* [Scatterplot](https://seaborn.pydata.org/generated/seaborn.scatterplot.html) para contínuas X contínuas.\n",
    "\n",
    "* [Boxplot](https://seaborn.pydata.org/generated/seaborn.boxplot.html) para categóricas X contínuas.\n",
    "\n",
    "* [Heatmap](https://seaborn.pydata.org/generated/seaborn.heatmap.html) para categóricas X categóricas.\n",
    "\n",
    "* [Displot](https://seaborn.pydata.org/generated/seaborn.displot.html) (distplot em versões antigas) para distribuições.\n",
    "\n",
    "Para saber o que significam as colunas, veja o arquivo *escolas.txt*."
   ]
  },
  {
   "cell_type": "code",
   "execution_count": null,
   "metadata": {},
   "outputs": [],
   "source": [
    "data"
   ]
  },
  {
   "cell_type": "markdown",
   "metadata": {},
   "source": [
    "EOL"
   ]
  }
 ],
 "metadata": {
  "kernelspec": {
   "display_name": "Python 3",
   "language": "python",
   "name": "python3"
  },
  "language_info": {
   "codemirror_mode": {
    "name": "ipython",
    "version": 3
   },
   "file_extension": ".py",
   "mimetype": "text/x-python",
   "name": "python",
   "nbconvert_exporter": "python",
   "pygments_lexer": "ipython3",
   "version": "3.8.5"
  }
 },
 "nbformat": 4,
 "nbformat_minor": 4
}
